{
  "nbformat": 4,
  "nbformat_minor": 0,
  "metadata": {
    "colab": {
      "provenance": []
    },
    "kernelspec": {
      "name": "python3",
      "display_name": "Python 3"
    },
    "language_info": {
      "name": "python"
    }
  },
  "cells": [
    {
      "cell_type": "markdown",
      "source": [
        "**1. 텐서**\n",
        "- 파이토치의 기본 단위"
      ],
      "metadata": {
        "id": "MAbWYY5qQ9-j"
      }
    },
    {
      "cell_type": "code",
      "execution_count": 1,
      "metadata": {
        "id": "WPs48nXBQsb7"
      },
      "outputs": [],
      "source": [
        "import torch\n",
        "import numpy as np"
      ]
    },
    {
      "cell_type": "code",
      "source": [
        "x = torch.empty(5, 4)\n",
        "print(x)"
      ],
      "metadata": {
        "colab": {
          "base_uri": "https://localhost:8080/"
        },
        "id": "GmYAuX76RMst",
        "outputId": "915d2429-8d47-4ae9-fefb-345583971039"
      },
      "execution_count": 2,
      "outputs": [
        {
          "output_type": "stream",
          "name": "stdout",
          "text": [
            "tensor([[ 3.7188e-36,  4.5406e-41,  3.6015e-31,  4.5406e-41],\n",
            "        [ 3.8752e-03,  4.5405e-41,  3.0122e-31,  4.5406e-41],\n",
            "        [ 3.8750e-03,  4.5405e-41, -1.8492e+31,  4.5405e-41],\n",
            "        [ 3.8754e-03,  4.5405e-41, -1.8492e+31,  4.5405e-41],\n",
            "        [ 3.8755e-03,  4.5405e-41,  1.2261e-38,  4.5406e-41]])\n"
          ]
        }
      ]
    },
    {
      "cell_type": "code",
      "source": [
        "# 3*3크기의 일행렬\n",
        "torch.ones(3, 3)"
      ],
      "metadata": {
        "colab": {
          "base_uri": "https://localhost:8080/"
        },
        "id": "9APBlo0_RRyi",
        "outputId": "b0f563d3-1a50-45ea-d3e7-00236d50f489"
      },
      "execution_count": 3,
      "outputs": [
        {
          "output_type": "execute_result",
          "data": {
            "text/plain": [
              "tensor([[1., 1., 1.],\n",
              "        [1., 1., 1.],\n",
              "        [1., 1., 1.]])"
            ]
          },
          "metadata": {},
          "execution_count": 3
        }
      ]
    },
    {
      "cell_type": "code",
      "source": [
        "# 2행 크기의 영행렬\n",
        "torch.zeros(2)"
      ],
      "metadata": {
        "colab": {
          "base_uri": "https://localhost:8080/"
        },
        "id": "sJRX23_rRW_U",
        "outputId": "6fa74654-1468-462a-9b06-bfd4a5f7806f"
      },
      "execution_count": 4,
      "outputs": [
        {
          "output_type": "execute_result",
          "data": {
            "text/plain": [
              "tensor([0., 0.])"
            ]
          },
          "metadata": {},
          "execution_count": 4
        }
      ]
    },
    {
      "cell_type": "code",
      "source": [
        "# 5*6 크기의 무작위 행렬\n",
        "torch.rand(5, 6)"
      ],
      "metadata": {
        "colab": {
          "base_uri": "https://localhost:8080/"
        },
        "id": "qzG_rwQWRfZT",
        "outputId": "13a37e4f-b7c5-45a5-fc58-7183a27db117"
      },
      "execution_count": 5,
      "outputs": [
        {
          "output_type": "execute_result",
          "data": {
            "text/plain": [
              "tensor([[0.6007, 0.3356, 0.4379, 0.1452, 0.6381, 0.1730],\n",
              "        [0.4362, 0.0241, 0.3537, 0.4009, 0.0423, 0.1427],\n",
              "        [0.4542, 0.0392, 0.5892, 0.3973, 0.0029, 0.4293],\n",
              "        [0.3641, 0.4368, 0.6187, 0.4317, 0.0332, 0.2185],\n",
              "        [0.8646, 0.2753, 0.8200, 0.3731, 0.2355, 0.9526]])"
            ]
          },
          "metadata": {},
          "execution_count": 5
        }
      ]
    },
    {
      "cell_type": "markdown",
      "source": [
        "list, numpy to Tensor"
      ],
      "metadata": {
        "id": "2CBp6pTWRkzo"
      }
    },
    {
      "cell_type": "code",
      "source": [
        "l = [13, 4] # 리스트 생성\n",
        "r = np.array([4, 56, 7])\n",
        "torch.tensor(l)"
      ],
      "metadata": {
        "colab": {
          "base_uri": "https://localhost:8080/"
        },
        "id": "4Mu-xReiRnrk",
        "outputId": "7a4b87c9-a08b-4155-b30d-ba1ecc76aab8"
      },
      "execution_count": 6,
      "outputs": [
        {
          "output_type": "execute_result",
          "data": {
            "text/plain": [
              "tensor([13,  4])"
            ]
          },
          "metadata": {},
          "execution_count": 6
        }
      ]
    },
    {
      "cell_type": "code",
      "source": [
        "torch.tensor(r)"
      ],
      "metadata": {
        "colab": {
          "base_uri": "https://localhost:8080/"
        },
        "id": "x_TVMBKvRwGx",
        "outputId": "8288d231-b9df-45af-e910-2cf91a272413"
      },
      "execution_count": 7,
      "outputs": [
        {
          "output_type": "execute_result",
          "data": {
            "text/plain": [
              "tensor([ 4, 56,  7])"
            ]
          },
          "metadata": {},
          "execution_count": 7
        }
      ]
    },
    {
      "cell_type": "markdown",
      "source": [
        "텐서의 크기, 타입, 연산"
      ],
      "metadata": {
        "id": "bNg3Ik4WRz5t"
      }
    },
    {
      "cell_type": "code",
      "source": [
        "x.size()[1]"
      ],
      "metadata": {
        "colab": {
          "base_uri": "https://localhost:8080/"
        },
        "id": "eX0np2nRR2Z2",
        "outputId": "03748f50-b289-48a9-a9cc-f9357c6f6c8c"
      },
      "execution_count": 8,
      "outputs": [
        {
          "output_type": "execute_result",
          "data": {
            "text/plain": [
              "4"
            ]
          },
          "metadata": {},
          "execution_count": 8
        }
      ]
    },
    {
      "cell_type": "code",
      "source": [
        "x.size(0)"
      ],
      "metadata": {
        "colab": {
          "base_uri": "https://localhost:8080/"
        },
        "id": "tXoxPFSBR6mx",
        "outputId": "2ca31dc7-7d4f-4c07-b13a-44a879695407"
      },
      "execution_count": 10,
      "outputs": [
        {
          "output_type": "execute_result",
          "data": {
            "text/plain": [
              "5"
            ]
          },
          "metadata": {},
          "execution_count": 10
        }
      ]
    },
    {
      "cell_type": "code",
      "source": [
        "type(x)"
      ],
      "metadata": {
        "colab": {
          "base_uri": "https://localhost:8080/"
        },
        "id": "O3nFZ7NqR9KS",
        "outputId": "3cdbc8a4-b641-4f5f-db32-d6f36bd1ef6a"
      },
      "execution_count": 11,
      "outputs": [
        {
          "output_type": "execute_result",
          "data": {
            "text/plain": [
              "torch.Tensor"
            ]
          },
          "metadata": {},
          "execution_count": 11
        }
      ]
    },
    {
      "cell_type": "code",
      "source": [
        "x = torch.rand(2, 2)\n",
        "y = torch.rand(2, 2)\n",
        "x + y"
      ],
      "metadata": {
        "colab": {
          "base_uri": "https://localhost:8080/"
        },
        "id": "5Mvqafg9R-_B",
        "outputId": "893760d8-5a7e-4758-8282-860f69b2a323"
      },
      "execution_count": 12,
      "outputs": [
        {
          "output_type": "execute_result",
          "data": {
            "text/plain": [
              "tensor([[1.2954, 1.2358],\n",
              "        [0.8511, 1.1263]])"
            ]
          },
          "metadata": {},
          "execution_count": 12
        }
      ]
    },
    {
      "cell_type": "code",
      "source": [
        "torch.add(x, y)\n",
        "y.add(x)"
      ],
      "metadata": {
        "colab": {
          "base_uri": "https://localhost:8080/"
        },
        "id": "f5BsofflSE4Z",
        "outputId": "3779593a-a526-4200-c520-f96ebbe9c233"
      },
      "execution_count": 13,
      "outputs": [
        {
          "output_type": "execute_result",
          "data": {
            "text/plain": [
              "tensor([[1.2954, 1.2358],\n",
              "        [0.8511, 1.1263]])"
            ]
          },
          "metadata": {},
          "execution_count": 13
        }
      ]
    },
    {
      "cell_type": "code",
      "source": [
        "# 인플레이스 방식(아예 덮어씌우기)\n",
        "y.add_(x)"
      ],
      "metadata": {
        "colab": {
          "base_uri": "https://localhost:8080/"
        },
        "id": "XjRV2RSwSIjH",
        "outputId": "97650e70-fab9-4b96-abfc-dfee3ec23a67"
      },
      "execution_count": 14,
      "outputs": [
        {
          "output_type": "execute_result",
          "data": {
            "text/plain": [
              "tensor([[1.2954, 1.2358],\n",
              "        [0.8511, 1.1263]])"
            ]
          },
          "metadata": {},
          "execution_count": 14
        }
      ]
    },
    {
      "cell_type": "code",
      "source": [
        "y"
      ],
      "metadata": {
        "colab": {
          "base_uri": "https://localhost:8080/"
        },
        "id": "2WJPVsG2SKk6",
        "outputId": "7801d36a-3315-47bd-910a-afadeec2904e"
      },
      "execution_count": 15,
      "outputs": [
        {
          "output_type": "execute_result",
          "data": {
            "text/plain": [
              "tensor([[1.2954, 1.2358],\n",
              "        [0.8511, 1.1263]])"
            ]
          },
          "metadata": {},
          "execution_count": 15
        }
      ]
    },
    {
      "cell_type": "markdown",
      "source": [
        "텐서의 크기 변환"
      ],
      "metadata": {
        "id": "-eTH_av_SRoV"
      }
    },
    {
      "cell_type": "code",
      "source": [
        "x = torch.rand(8, 8)\n",
        "print(x.size())"
      ],
      "metadata": {
        "colab": {
          "base_uri": "https://localhost:8080/"
        },
        "id": "JLDniExNSTfI",
        "outputId": "18c65498-dc13-4674-9ef7-519154f43bbf"
      },
      "execution_count": 16,
      "outputs": [
        {
          "output_type": "stream",
          "name": "stdout",
          "text": [
            "torch.Size([8, 8])\n"
          ]
        }
      ]
    },
    {
      "cell_type": "code",
      "source": [
        "# 크기를 바꿔주는 view 8 * 8 -> 64\n",
        "a = x.view(64)\n",
        "print(a.size())"
      ],
      "metadata": {
        "colab": {
          "base_uri": "https://localhost:8080/"
        },
        "id": "6AEk4c55SX_8",
        "outputId": "20da9ab4-a7ee-4a6f-8e5f-c1b6babb8114"
      },
      "execution_count": 17,
      "outputs": [
        {
          "output_type": "stream",
          "name": "stdout",
          "text": [
            "torch.Size([64])\n"
          ]
        }
      ]
    },
    {
      "cell_type": "code",
      "source": [
        "# -1은 원래 크기가 되게 하는 값 8 * 8 -> -1 * 4 * 4, 즉 4*4*4이다\n",
        "b = x.view(-1,4,4)\n",
        "print(b.size())"
      ],
      "metadata": {
        "colab": {
          "base_uri": "https://localhost:8080/"
        },
        "id": "jNeF8UPLSilz",
        "outputId": "db1058c6-ab4f-4a3f-9742-b2afea095d19"
      },
      "execution_count": 18,
      "outputs": [
        {
          "output_type": "stream",
          "name": "stdout",
          "text": [
            "torch.Size([4, 4, 4])\n"
          ]
        }
      ]
    },
    {
      "cell_type": "markdown",
      "source": [
        "텐서에서 넘파이 배열로 변환"
      ],
      "metadata": {
        "id": "QU7pdtR3SvPX"
      }
    },
    {
      "cell_type": "code",
      "source": [
        "x = torch.rand(8, 8)\n",
        "y = x.numpy()\n",
        "type(y)"
      ],
      "metadata": {
        "colab": {
          "base_uri": "https://localhost:8080/"
        },
        "id": "01SCfgKnSyQh",
        "outputId": "5d420c04-b612-4184-a977-fbbd84fa6db5"
      },
      "execution_count": 19,
      "outputs": [
        {
          "output_type": "execute_result",
          "data": {
            "text/plain": [
              "numpy.ndarray"
            ]
          },
          "metadata": {},
          "execution_count": 19
        }
      ]
    },
    {
      "cell_type": "markdown",
      "source": [
        "단일 텐서에서 값으로 변환"
      ],
      "metadata": {
        "id": "TewNpRbaS46j"
      }
    },
    {
      "cell_type": "code",
      "source": [
        "x = torch.ones(1)\n",
        "print(x.item())"
      ],
      "metadata": {
        "colab": {
          "base_uri": "https://localhost:8080/"
        },
        "id": "ZUYtPobCS3mD",
        "outputId": "fdf0f52f-598d-40be-f1b1-ab2ae621de3d"
      },
      "execution_count": 20,
      "outputs": [
        {
          "output_type": "stream",
          "name": "stdout",
          "text": [
            "1.0\n"
          ]
        }
      ]
    },
    {
      "cell_type": "markdown",
      "source": [
        "**2. 역전파**\n",
        "\n",
        "\n",
        "\n",
        "모델 최적화 수단!!\n",
        "미분 성질 + 연쇄 법칙 기반\n",
        "\n",
        "requires_grad=True : 해당 텐서 기준 모든 연산 추적 -> 그래디언트 라고 하는 미분값들의 모임 계산!!\n",
        "\n",
        "Pytorch -> 자동 미분 기능"
      ],
      "metadata": {
        "id": "eWD01HOzS_DX"
      }
    },
    {
      "cell_type": "code",
      "source": [
        "x = torch.ones(2, 2, requires_grad=True)\n",
        "y = x+1\n",
        "z = 2*y**2\n",
        "r = z.mean()\n",
        "print(\"Result: \", r)"
      ],
      "metadata": {
        "colab": {
          "base_uri": "https://localhost:8080/"
        },
        "id": "pwWErARgTLRB",
        "outputId": "b5844a33-9a35-4900-cbcd-7b1f00142155"
      },
      "execution_count": 21,
      "outputs": [
        {
          "output_type": "stream",
          "name": "stdout",
          "text": [
            "Result:  tensor(8., grad_fn=<MeanBackward0>)\n"
          ]
        }
      ]
    },
    {
      "cell_type": "markdown",
      "source": [
        "r 기준 역전파 진행\n",
        "\n",
        "*dr/dx*\n"
      ],
      "metadata": {
        "id": "1iFI9b2FT_Gv"
      }
    },
    {
      "cell_type": "code",
      "source": [
        "# 역전파\n",
        "r.backward()\n",
        "print(x.grad)"
      ],
      "metadata": {
        "colab": {
          "base_uri": "https://localhost:8080/"
        },
        "id": "jx4MnT_9T8YX",
        "outputId": "a41538fa-c149-4dc1-addc-ed61a454e3f9"
      },
      "execution_count": 22,
      "outputs": [
        {
          "output_type": "stream",
          "name": "stdout",
          "text": [
            "tensor([[2., 2.],\n",
            "        [2., 2.]])\n"
          ]
        }
      ]
    },
    {
      "cell_type": "markdown",
      "source": [
        "**자동 미분 - 선형 회귀식**"
      ],
      "metadata": {
        "id": "P1VpC2myUhsE"
      }
    },
    {
      "cell_type": "code",
      "source": [
        "from matplotlib import pyplot as plt"
      ],
      "metadata": {
        "id": "eWXFC7RSUlyr"
      },
      "execution_count": 23,
      "outputs": []
    },
    {
      "cell_type": "code",
      "source": [
        "x = torch.FloatTensor(range(5)).unsqueeze(1)     # 1차원인 torch.size(5)를 2차원으로 늘린다\n",
        "y = 2*x + torch.rand(5, 1)   # 인스턴스 5개, 변수 1개\n",
        "num_features = x.shape[1]   # 변수의 개수 저장"
      ],
      "metadata": {
        "id": "wo8_MXYVUpez"
      },
      "execution_count": 27,
      "outputs": []
    },
    {
      "cell_type": "code",
      "source": [
        "w = torch.randn(num_features, 1, requires_grad=True)\n",
        "b = torch.randn(1, requires_grad=True)\n",
        "\n",
        "# 선형식은 y = x*w+b"
      ],
      "metadata": {
        "id": "ntikgD7JVVRz"
      },
      "execution_count": 26,
      "outputs": []
    },
    {
      "cell_type": "markdown",
      "source": [
        "x, y(데이터) --> 변하지 않는 값이라 업뎃 필요 X!!\n",
        "\n",
        "w, b  --> 역전파 통해서 최적의 값 찾기가 목표!!(requires_grad=True)"
      ],
      "metadata": {
        "id": "t_Df385RW7LN"
      }
    },
    {
      "cell_type": "markdown",
      "source": [
        "**경사 하강법**"
      ],
      "metadata": {
        "id": "YoqKjcqEXMNf"
      }
    },
    {
      "cell_type": "code",
      "source": [
        "learning_rate = 1e-3\n",
        "optimizer = torch.optim.SGD([w,b], lr=learning_rate)"
      ],
      "metadata": {
        "id": "OlMAYdsCXJ7U"
      },
      "execution_count": 28,
      "outputs": []
    },
    {
      "cell_type": "code",
      "source": [
        "loss_stack = []\n",
        "for epoch in range(1001):\n",
        "    optimizer.zero_grad()\n",
        "    y_hat = torch.matmul(x,w) + b\n",
        "    loss = torch.mean((y_hat-y)**2)\n",
        "    loss.backward()\n",
        "    optimizer.step()\n",
        "    loss_stack.append(loss.item())\n",
        "\n",
        "    #에포크가 100으로 나눠 떨어질 때마다 손실함수 값 출력\n",
        "    if epoch % 100 == 0:\n",
        "        print(f'Epoch {epoch}:{loss.item()}')"
      ],
      "metadata": {
        "colab": {
          "base_uri": "https://localhost:8080/"
        },
        "id": "i-LX5HX-XYgl",
        "outputId": "1cf981b1-f12e-417b-aeac-c90a62a42d9d"
      },
      "execution_count": 30,
      "outputs": [
        {
          "output_type": "stream",
          "name": "stdout",
          "text": [
            "Epoch 0:0.045286957174539566\n",
            "Epoch 100:0.04456264525651932\n",
            "Epoch 200:0.04391986131668091\n",
            "Epoch 300:0.04334944114089012\n",
            "Epoch 400:0.04284322261810303\n",
            "Epoch 500:0.042393963783979416\n",
            "Epoch 600:0.041995253413915634\n",
            "Epoch 700:0.041641488671302795\n",
            "Epoch 800:0.04132745414972305\n",
            "Epoch 900:0.041048821061849594\n",
            "Epoch 1000:0.04080154746770859\n"
          ]
        }
      ]
    },
    {
      "cell_type": "code",
      "source": [
        "# 최종 학습 w, b로 예측값 산출\n",
        "with torch.no_grad():\n",
        "    y_hat = torch.matmul(x,w) + b"
      ],
      "metadata": {
        "id": "8Bz7FhZJYona"
      },
      "execution_count": 31,
      "outputs": []
    },
    {
      "cell_type": "markdown",
      "source": [
        "손실함수와 회귀선 그래프"
      ],
      "metadata": {
        "id": "WTEBqTHSY4XS"
      }
    },
    {
      "cell_type": "code",
      "source": [
        "plt.figure(figsize=(10, 5))\n",
        "plt.subplot(121)\n",
        "plt.plot(loss_stack)\n",
        "plt.title(\"Loss\")\n",
        "plt.subplot(122)\n",
        "plt.plot(x, y,'.b')\n",
        "plt.plot(x, y_hat, 'r-')\n",
        "plt.legend(['ground truth','prediction'])\n",
        "plt.title(\"Prediction\")\n",
        "plt.show()"
      ],
      "metadata": {
        "colab": {
          "base_uri": "https://localhost:8080/",
          "height": 468
        },
        "id": "OQT686DaY2ub",
        "outputId": "cf46f3c7-60da-4479-d237-df28460850cb"
      },
      "execution_count": 32,
      "outputs": [
        {
          "output_type": "display_data",
          "data": {
            "text/plain": [
              "<Figure size 1000x500 with 2 Axes>"
            ],
            "image/png": "[encoded data removed]"
          },
          "metadata": {}
        }
      ]
    }
  ]
}