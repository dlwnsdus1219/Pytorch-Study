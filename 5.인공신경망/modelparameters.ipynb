{
  "nbformat": 4,
  "nbformat_minor": 0,
  "metadata": {
    "colab": {
      "provenance": []
    },
    "kernelspec": {
      "name": "python3",
      "display_name": "Python 3"
    },
    "language_info": {
      "name": "python"
    }
  },
  "cells": [
    {
      "cell_type": "markdown",
      "source": [
        "# 모델 구조 및 가중치 확인"
      ],
      "metadata": {
        "id": "tWNZrxjbYEEe"
      }
    },
    {
      "cell_type": "code",
      "source": [
        "!pip install torchsummary"
      ],
      "metadata": {
        "colab": {
          "base_uri": "https://localhost:8080/"
        },
        "id": "82k4PBlyYY1M",
        "outputId": "4727d249-3e7e-402b-a03b-5b317fc96549"
      },
      "execution_count": 2,
      "outputs": [
        {
          "output_type": "stream",
          "name": "stdout",
          "text": [
            "Requirement already satisfied: torchsummary in /usr/local/lib/python3.10/dist-packages (1.5.1)\n"
          ]
        }
      ]
    },
    {
      "cell_type": "code",
      "execution_count": 3,
      "metadata": {
        "id": "AaPC7ZBqYBlf"
      },
      "outputs": [],
      "source": [
        "import torch\n",
        "from torch import nn\n",
        "import torch.nn.functional as F\n",
        "from torchsummary import summary\n",
        "# torchsummary는 구조와 모델 변수를 간단히 알려주는 라이브러리임!!"
      ]
    },
    {
      "cell_type": "markdown",
      "source": [
        "모델 구축하기"
      ],
      "metadata": {
        "id": "YH9Z8Q8ZZX4W"
      }
    },
    {
      "cell_type": "code",
      "source": [
        "class Regressor(nn.Module):\n",
        "    def __init__(self):\n",
        "        super().__init__()\n",
        "        self.fc1 = nn.Linear(13, 50)\n",
        "        self.fc2 = nn.Linear(50, 30)\n",
        "        self.fc3 = nn.Linear(30, 1)\n",
        "        self.dropout = nn.Dropout(0.5)\n",
        "\n",
        "    def forward(self, x):\n",
        "        x = F.relu(self.fc1(x))\n",
        "        x = self.dropout(F.relu(self.fc2(x)))\n",
        "        x = F.relu(self.fc3(x))\n",
        "\n",
        "        return x"
      ],
      "metadata": {
        "id": "cgo2UEbYYQuz"
      },
      "execution_count": 4,
      "outputs": []
    },
    {
      "cell_type": "code",
      "source": [
        "model = Regressor()"
      ],
      "metadata": {
        "id": "3HnLhqhbaAHy"
      },
      "execution_count": 5,
      "outputs": []
    },
    {
      "cell_type": "code",
      "source": [
        "print(model)"
      ],
      "metadata": {
        "colab": {
          "base_uri": "https://localhost:8080/"
        },
        "id": "NKFHkY-4aDCd",
        "outputId": "0d05cab3-1727-4e0f-a4cc-6a18045e84df"
      },
      "execution_count": 6,
      "outputs": [
        {
          "output_type": "stream",
          "name": "stdout",
          "text": [
            "Regressor(\n",
            "  (fc1): Linear(in_features=13, out_features=50, bias=True)\n",
            "  (fc2): Linear(in_features=50, out_features=30, bias=True)\n",
            "  (fc3): Linear(in_features=30, out_features=1, bias=True)\n",
            "  (dropout): Dropout(p=0.5, inplace=False)\n",
            ")\n"
          ]
        }
      ]
    },
    {
      "cell_type": "markdown",
      "source": [
        "위와 같이 모델 구조를 한 눈에 확인할 수 있다!!"
      ],
      "metadata": {
        "id": "uM5UdXUPaHRd"
      }
    },
    {
      "cell_type": "markdown",
      "source": [
        "모델 변수"
      ],
      "metadata": {
        "id": "E-tC-UHlaOAW"
      }
    },
    {
      "cell_type": "code",
      "source": [
        "for parameter in model.parameters():\n",
        "    print(parameter.size())"
      ],
      "metadata": {
        "colab": {
          "base_uri": "https://localhost:8080/"
        },
        "id": "U_BYNdnvaPiJ",
        "outputId": "e4c113c9-7676-43b2-ec09-2c7b70d0a53d"
      },
      "execution_count": 7,
      "outputs": [
        {
          "output_type": "stream",
          "name": "stdout",
          "text": [
            "torch.Size([50, 13])\n",
            "torch.Size([50])\n",
            "torch.Size([30, 50])\n",
            "torch.Size([30])\n",
            "torch.Size([1, 30])\n",
            "torch.Size([1])\n"
          ]
        }
      ]
    },
    {
      "cell_type": "code",
      "source": [
        "for name, param in model.named_parameters():\n",
        "    print(name, param.size())"
      ],
      "metadata": {
        "colab": {
          "base_uri": "https://localhost:8080/"
        },
        "id": "HKoYAGI7cqr-",
        "outputId": "52e13964-995c-4ca0-da2d-c09ef201d4e7"
      },
      "execution_count": 8,
      "outputs": [
        {
          "output_type": "stream",
          "name": "stdout",
          "text": [
            "fc1.weight torch.Size([50, 13])\n",
            "fc1.bias torch.Size([50])\n",
            "fc2.weight torch.Size([30, 50])\n",
            "fc2.bias torch.Size([30])\n",
            "fc3.weight torch.Size([1, 30])\n",
            "fc3.bias torch.Size([1])\n"
          ]
        }
      ]
    },
    {
      "cell_type": "code",
      "source": [
        "print(model.fc1.weight.size(), model.fc1.bias.size())"
      ],
      "metadata": {
        "colab": {
          "base_uri": "https://localhost:8080/"
        },
        "id": "QCh9QX3IcvvW",
        "outputId": "f60a0bdd-81fa-4206-8257-3f4268385b45"
      },
      "execution_count": 9,
      "outputs": [
        {
          "output_type": "stream",
          "name": "stdout",
          "text": [
            "torch.Size([50, 13]) torch.Size([50])\n"
          ]
        }
      ]
    },
    {
      "cell_type": "code",
      "source": [
        "model.fc1.bias"
      ],
      "metadata": {
        "colab": {
          "base_uri": "https://localhost:8080/"
        },
        "id": "T3h4OiwldSbO",
        "outputId": "d66378e7-527d-4bda-bbb0-13f714906eaa"
      },
      "execution_count": 10,
      "outputs": [
        {
          "output_type": "execute_result",
          "data": {
            "text/plain": [
              "Parameter containing:\n",
              "tensor([ 1.6494e-01, -1.9829e-02, -2.5857e-01,  2.1774e-02,  2.0771e-01,\n",
              "         1.1367e-01, -9.7577e-02,  2.6812e-01, -3.9578e-02,  1.5574e-01,\n",
              "         1.0126e-02,  2.3721e-01, -1.2166e-01, -1.0728e-01,  4.3220e-02,\n",
              "        -1.0012e-01, -2.2911e-01, -1.3237e-02, -2.8223e-02, -2.5469e-01,\n",
              "         1.0227e-01,  1.9095e-01,  2.7155e-01,  1.2900e-01, -5.2010e-02,\n",
              "        -2.4944e-01,  2.6477e-04, -3.2587e-02,  8.6145e-02, -2.6361e-01,\n",
              "        -1.4189e-01,  2.6691e-01, -1.3748e-02, -3.9658e-02,  2.4134e-01,\n",
              "         2.9033e-02, -1.8285e-02, -1.1152e-01, -2.3104e-02,  1.8737e-01,\n",
              "        -1.8679e-01,  4.5605e-02, -2.4010e-01,  1.2902e-01,  2.8664e-02,\n",
              "         1.6694e-01,  8.5442e-02, -3.4503e-03, -2.5792e-01, -1.3708e-02],\n",
              "       requires_grad=True)"
            ]
          },
          "metadata": {},
          "execution_count": 10
        }
      ]
    },
    {
      "cell_type": "code",
      "source": [
        "summary(model, (10, 13)) # model, 임의의 입력 데이터 사이즈 넣기\n",
        "\n",
        "# 아래와 같이 출력값의 크기와 변수에 대한 정보를 테이블로 만들어 준다!!"
      ],
      "metadata": {
        "colab": {
          "base_uri": "https://localhost:8080/"
        },
        "id": "ltXUhEYndnVY",
        "outputId": "587bb450-e20c-4fce-fa64-99aadfe5fe14"
      },
      "execution_count": 12,
      "outputs": [
        {
          "output_type": "stream",
          "name": "stdout",
          "text": [
            "----------------------------------------------------------------\n",
            "        Layer (type)               Output Shape         Param #\n",
            "================================================================\n",
            "            Linear-1               [-1, 10, 50]             700\n",
            "            Linear-2               [-1, 10, 30]           1,530\n",
            "           Dropout-3               [-1, 10, 30]               0\n",
            "            Linear-4                [-1, 10, 1]              31\n",
            "================================================================\n",
            "Total params: 2,261\n",
            "Trainable params: 2,261\n",
            "Non-trainable params: 0\n",
            "----------------------------------------------------------------\n",
            "Input size (MB): 0.00\n",
            "Forward/backward pass size (MB): 0.01\n",
            "Params size (MB): 0.01\n",
            "Estimated Total Size (MB): 0.02\n",
            "----------------------------------------------------------------\n"
          ]
        }
      ]
    },
    {
      "cell_type": "code",
      "source": [],
      "metadata": {
        "id": "J3esiRLIoklE"
      },
      "execution_count": null,
      "outputs": []
    }
  ]
}