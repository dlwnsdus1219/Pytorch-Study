{
  "nbformat": 4,
  "nbformat_minor": 0,
  "metadata": {
    "colab": {
      "provenance": []
    },
    "kernelspec": {
      "name": "python3",
      "display_name": "Python 3"
    },
    "language_info": {
      "name": "python"
    }
  },
  "cells": [
    {
      "cell_type": "markdown",
      "source": [
        "# 활성화 함수"
      ],
      "metadata": {
        "id": "1RbYHWkmjQLu"
      }
    },
    {
      "cell_type": "code",
      "execution_count": null,
      "metadata": {
        "id": "m3Tz3o0gigk4"
      },
      "outputs": [],
      "source": [
        "# 비선형적인 층 사이의 관계를 표현하는 데 사용한다!!\n",
        "# 음수는 모두 0, 양수는 계산값 그대로!!"
      ]
    },
    {
      "cell_type": "code",
      "source": [
        "# 선형 함수\n",
        "## 1차적 비선형 관계 --> 거의 사용 X"
      ],
      "metadata": {
        "id": "9RqZh3HUjeIw"
      },
      "execution_count": null,
      "outputs": []
    },
    {
      "cell_type": "markdown",
      "source": [
        "시그모이드 함수(torch.sigmoid()/nn.sigmoid())\n",
        "\n",
        "- 모든 입력값에 대해 0이나 1로 변환하는 역할!!\n",
        "- 이진 분류 문제에 활용함"
      ],
      "metadata": {
        "id": "8JEdWqU1j0pl"
      }
    },
    {
      "cell_type": "markdown",
      "source": [
        "tanh 함수(torch.tanh()/nn.Tanh())\n",
        "\n",
        "- 시그모이드와 유사한 형태\n",
        "- -1과 1 사이 값 취한다\n",
        "- 0부근에서 시그모이드보다 더 깊은 기울기"
      ],
      "metadata": {
        "id": "TWMo0saMlcWY"
      }
    },
    {
      "cell_type": "markdown",
      "source": [
        "ReLU 함수(torch.nn.functional.relu()/nn.ReLU())\n",
        "\n",
        "- 비선형 but 선형과 유사한 성질!!\n",
        "- 성능 good!!"
      ],
      "metadata": {
        "id": "Z8CPWXCHlku3"
      }
    },
    {
      "cell_type": "markdown",
      "source": [
        "Softmax 함수(torch.nn.functional.softmax()/nn.Softmax())\n",
        "\n",
        "- 벡터 X에 대해, 모든 성분이 항상 양수 --> 그 합이 1이 되도록 변환!!\n",
        "- 다중 분류 문제에서 주로 사용함"
      ],
      "metadata": {
        "id": "vLWMBvG8mA9K"
      }
    },
    {
      "cell_type": "code",
      "source": [],
      "metadata": {
        "id": "nvXVgFG6jtyh"
      },
      "execution_count": null,
      "outputs": []
    },
    {
      "cell_type": "markdown",
      "source": [
        "# 손실 함수(Loss Function)"
      ],
      "metadata": {
        "id": "O49RGF11maZ-"
      }
    },
    {
      "cell_type": "markdown",
      "source": [
        "MAE(torch.nn.L1Loss())\n",
        "\n",
        "- 유사도, 거리 측정, 회귀 문제"
      ],
      "metadata": {
        "id": "uQO2d_fLmg3L"
      }
    },
    {
      "cell_type": "markdown",
      "source": [
        "MSE(torch.nn.MSELoss())\n",
        "\n",
        "- 유사도, 거리 측정, 회귀 문제"
      ],
      "metadata": {
        "id": "AtVOtC-vmmP2"
      }
    },
    {
      "cell_type": "markdown",
      "source": [
        "Cross Entrophy Loss(torch.nn.CrossEntrophyLoss())\n",
        "\n",
        "- 다중 분류 문제에서 주로 사용\n",
        "- 파이토치에서는, 예측값은 벡터 형태, 타깃값은 라벨 형태로 설정!!"
      ],
      "metadata": {
        "id": "CaLrGF3Imrt4"
      }
    },
    {
      "cell_type": "markdown",
      "source": [
        "그 외에도 nn.BCELoss, nn.NLLoss, nn.KLDivLoss 등 다양한 손실함수 제공!!"
      ],
      "metadata": {
        "id": "c3x0jh-0nv8X"
      }
    },
    {
      "cell_type": "markdown",
      "source": [],
      "metadata": {
        "id": "j85hxIDMmdOn"
      }
    },
    {
      "cell_type": "markdown",
      "source": [
        "# 최적화 기법"
      ],
      "metadata": {
        "id": "Oepv9tqSn4Hl"
      }
    },
    {
      "cell_type": "markdown",
      "source": [
        "손실 함수 값이 가장 작게 나오는 변수를 찾는게 목적이다!!"
      ],
      "metadata": {
        "id": "Eqke692sn95k"
      }
    },
    {
      "cell_type": "code",
      "source": [
        "# 파이토치는 계산 자동으로 하는 다양한 최적화 기법을 제공하므로, 최적화 기법에 대한 하이퍼 파라미터만 신경쓰면 된다!!"
      ],
      "metadata": {
        "id": "vUv95wAToBzW"
      },
      "execution_count": null,
      "outputs": []
    },
    {
      "cell_type": "markdown",
      "source": [
        "확률적 경사하강법(SGD)\n",
        "\n",
        "- 미니 배치 이용하여 진행!!\n",
        "- torch.optim.SGD"
      ],
      "metadata": {
        "id": "eM6kpDqiomph"
      }
    },
    {
      "cell_type": "code",
      "source": [
        "# 확률적 경사하강법(SGD)"
      ],
      "metadata": {
        "id": "n-Dtg4MHoXGY"
      },
      "execution_count": null,
      "outputs": []
    },
    {
      "cell_type": "code",
      "source": [
        "import torch\n",
        "import torchvision"
      ],
      "metadata": {
        "id": "tMPzIZ4_pAkc"
      },
      "execution_count": 1,
      "outputs": []
    },
    {
      "cell_type": "code",
      "source": [
        "# 임의의 모델 resnet18 선언\n",
        "model = torchvision.models.resnet18(pretrained=False)"
      ],
      "metadata": {
        "colab": {
          "base_uri": "https://localhost:8080/"
        },
        "id": "kSODqDtopRjU",
        "outputId": "83b37640-9869-4f95-e391-d3d31a1dc2a4"
      },
      "execution_count": 5,
      "outputs": [
        {
          "output_type": "stream",
          "name": "stderr",
          "text": [
            "/usr/local/lib/python3.10/dist-packages/torchvision/models/_utils.py:208: UserWarning: The parameter 'pretrained' is deprecated since 0.13 and may be removed in the future, please use 'weights' instead.\n",
            "  warnings.warn(\n",
            "/usr/local/lib/python3.10/dist-packages/torchvision/models/_utils.py:223: UserWarning: Arguments other than a weight enum or `None` for 'weights' are deprecated since 0.13 and may be removed in the future. The current behavior is equivalent to passing `weights=None`.\n",
            "  warnings.warn(msg)\n"
          ]
        }
      ]
    },
    {
      "cell_type": "code",
      "source": [
        "optimizer = torch.optim.SGD(model.parameters(), lr=0.01)"
      ],
      "metadata": {
        "id": "T6x_m80KpDsN"
      },
      "execution_count": 6,
      "outputs": []
    },
    {
      "cell_type": "code",
      "source": [
        "# SGD와 경사하강법 단점?: 학습률이 고정되어 있음!!\n",
        "# --> 변수의 위치에 무관하게 이동 비율이 항상 같아 비효율적임\n",
        "# 모멘텀 + 스케줄링 or Adam"
      ],
      "metadata": {
        "id": "-i3SI20QpcVC"
      },
      "execution_count": null,
      "outputs": []
    },
    {
      "cell_type": "markdown",
      "source": [
        "momentum 방법"
      ],
      "metadata": {
        "id": "s4TvqlUaqFg3"
      }
    },
    {
      "cell_type": "code",
      "source": [
        "optimizer = torch.optim.SGD(model.parameters(), lr=0.01, momentum=0.9)"
      ],
      "metadata": {
        "id": "UydGtgVbpuCf"
      },
      "execution_count": 7,
      "outputs": []
    },
    {
      "cell_type": "markdown",
      "source": [
        "Adam 방법"
      ],
      "metadata": {
        "id": "FgyedwuvqHrV"
      }
    },
    {
      "cell_type": "code",
      "source": [
        "optimizer = torch.optim.Adam(model.parameters(), lr=0.01)"
      ],
      "metadata": {
        "id": "uQwBK_j-qJKn"
      },
      "execution_count": 8,
      "outputs": []
    },
    {
      "cell_type": "markdown",
      "source": [
        "그 이외에도 torch.optim, Adadelta, torch.optim, Adagrad, torch.optim.RMSprop 등이 있다!!"
      ],
      "metadata": {
        "id": "I_c8j_3JqVbd"
      }
    },
    {
      "cell_type": "markdown",
      "source": [
        "스케줄링\n",
        "\n",
        "- 별도로 학습률이 어케 바뀌는지 규칙을 정해준다"
      ],
      "metadata": {
        "id": "kFP9l-ovqgPH"
      }
    },
    {
      "cell_type": "code",
      "source": [
        "optimizer = torch.optim.SGD(model.parameters(), lr=0.1, momentum=0.9)\n",
        "scheduler = torch.optim.lr_scheduler.StepLR(optimizer, step_size=30, gamma=0.1)"
      ],
      "metadata": {
        "id": "0-ds6CpOqcyn"
      },
      "execution_count": 10,
      "outputs": []
    },
    {
      "cell_type": "code",
      "source": [
        "# ... 중략 ...\n",
        "\n",
        "for epoch in range(400):\n",
        "    running_loss = 0.0\n",
        "    for data in trainloader:\n",
        "        inputs, values = data\n",
        "        optimizer.zero_grad()\n",
        "        outputs = model(inputs)\n",
        "        loss = criterion(outputs, values)\n",
        "        loss.backward()\n",
        "        optimizer.step()\n",
        "\n",
        "        # ... 중략 ...\n",
        "\n",
        "    scheduler.step() # 스케줄링을 통한 학습률 조정"
      ],
      "metadata": {
        "colab": {
          "base_uri": "https://localhost:8080/",
          "height": 255
        },
        "id": "xX_a-CXYrAiI",
        "outputId": "9ca229a1-1fe0-47ea-d00c-1b918acef47c"
      },
      "execution_count": 12,
      "outputs": [
        {
          "output_type": "error",
          "ename": "NameError",
          "evalue": "name 'trainloader' is not defined",
          "traceback": [
            "\u001b[0;31m---------------------------------------------------------------------------\u001b[0m",
            "\u001b[0;31mNameError\u001b[0m                                 Traceback (most recent call last)",
            "\u001b[0;32m<ipython-input-12-f302e106b4d3>\u001b[0m in \u001b[0;36m<cell line: 3>\u001b[0;34m()\u001b[0m\n\u001b[1;32m      3\u001b[0m \u001b[0;32mfor\u001b[0m \u001b[0mepoch\u001b[0m \u001b[0;32min\u001b[0m \u001b[0mrange\u001b[0m\u001b[0;34m(\u001b[0m\u001b[0;36m400\u001b[0m\u001b[0;34m)\u001b[0m\u001b[0;34m:\u001b[0m\u001b[0;34m\u001b[0m\u001b[0;34m\u001b[0m\u001b[0m\n\u001b[1;32m      4\u001b[0m     \u001b[0mrunning_loss\u001b[0m \u001b[0;34m=\u001b[0m \u001b[0;36m0.0\u001b[0m\u001b[0;34m\u001b[0m\u001b[0;34m\u001b[0m\u001b[0m\n\u001b[0;32m----> 5\u001b[0;31m     \u001b[0;32mfor\u001b[0m \u001b[0mdata\u001b[0m \u001b[0;32min\u001b[0m \u001b[0mtrainloader\u001b[0m\u001b[0;34m:\u001b[0m\u001b[0;34m\u001b[0m\u001b[0;34m\u001b[0m\u001b[0m\n\u001b[0m\u001b[1;32m      6\u001b[0m         \u001b[0minputs\u001b[0m\u001b[0;34m,\u001b[0m \u001b[0mvalues\u001b[0m \u001b[0;34m=\u001b[0m \u001b[0mdata\u001b[0m\u001b[0;34m\u001b[0m\u001b[0;34m\u001b[0m\u001b[0m\n\u001b[1;32m      7\u001b[0m         \u001b[0moptimizer\u001b[0m\u001b[0;34m.\u001b[0m\u001b[0mzero_grad\u001b[0m\u001b[0;34m(\u001b[0m\u001b[0;34m)\u001b[0m\u001b[0;34m\u001b[0m\u001b[0;34m\u001b[0m\u001b[0m\n",
            "\u001b[0;31mNameError\u001b[0m: name 'trainloader' is not defined"
          ]
        }
      ]
    },
    {
      "cell_type": "markdown",
      "source": [
        "MADGRAD\n",
        "\n",
        "- 모멘텀과 가변식 방법 발표하는 최신 최적화 방법"
      ],
      "metadata": {
        "id": "bOlq0Znmsgmw"
      }
    },
    {
      "cell_type": "code",
      "source": [
        "!pip install madgrad"
      ],
      "metadata": {
        "colab": {
          "base_uri": "https://localhost:8080/"
        },
        "id": "_Q368SrjsY1B",
        "outputId": "05e5cb2c-02cd-4abf-858c-d0e6518c880e"
      },
      "execution_count": 13,
      "outputs": [
        {
          "output_type": "stream",
          "name": "stdout",
          "text": [
            "Collecting madgrad\n",
            "  Downloading madgrad-1.3.tar.gz (7.9 kB)\n",
            "  Installing build dependencies ... \u001b[?25l\u001b[?25hdone\n",
            "  Getting requirements to build wheel ... \u001b[?25l\u001b[?25hdone\n",
            "  Preparing metadata (pyproject.toml) ... \u001b[?25l\u001b[?25hdone\n",
            "Building wheels for collected packages: madgrad\n",
            "  Building wheel for madgrad (pyproject.toml) ... \u001b[?25l\u001b[?25hdone\n",
            "  Created wheel for madgrad: filename=madgrad-1.3-py3-none-any.whl size=11867 sha256=d492eadf7b23e6183e0c53e59fd0a465aaa5717f643a26a00e71262c39894064\n",
            "  Stored in directory: /root/.cache/pip/wheels/d9/a3/83/7ed1ddc517cd87cad4e3a4aec7f8ea1d5e83a5ff282e51490a\n",
            "Successfully built madgrad\n",
            "Installing collected packages: madgrad\n",
            "Successfully installed madgrad-1.3\n"
          ]
        }
      ]
    },
    {
      "cell_type": "code",
      "source": [
        "import madgrad\n",
        "optimizer = madgrad.MADGRAD(model.parameters())"
      ],
      "metadata": {
        "id": "5wMNLZdssx1I"
      },
      "execution_count": 14,
      "outputs": []
    },
    {
      "cell_type": "markdown",
      "source": [],
      "metadata": {
        "id": "8x8dH-D4o-w6"
      }
    }
  ]
}