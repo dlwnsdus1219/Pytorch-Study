{
  "cells": [
    {
      "cell_type": "markdown",
      "metadata": {
        "id": "a5gTjcxkW6OB"
      },
      "source": [
        "# 단층 퍼셉트론 by 파이토치"
      ]
    },
    {
      "cell_type": "code",
      "execution_count": 1,
      "metadata": {
        "id": "CAKdHd9_WGEN"
      },
      "outputs": [],
      "source": [
        "import torch\n",
        "import torch.nn as nn\n",
        "from matplotlib import pyplot as plt"
      ]
    },
    {
      "cell_type": "code",
      "execution_count": 2,
      "metadata": {
        "id": "R_7tkE7bWs94"
      },
      "outputs": [],
      "source": [
        "x = torch.FloatTensor(range(5)).unsqueeze(1)\n",
        "y = 2*x + torch.rand(5,1)"
      ]
    },
    {
      "cell_type": "code",
      "execution_count": 4,
      "metadata": {
        "id": "M0KkwByYXAYj"
      },
      "outputs": [],
      "source": [
        "class LinearRegressor(nn.Module):\n",
        "    def __init__(self):\n",
        "        super().__init__()  # 모델 연산 정의\n",
        "        self.fc = nn.Linear(1,1,bias=True)\n",
        "\n",
        "    def forward(self, x):\n",
        "        y = self.fc(x)\n",
        "\n",
        "        return y"
      ]
    },
    {
      "cell_type": "code",
      "execution_count": 7,
      "metadata": {
        "id": "PRTQaVnVW2P0"
      },
      "outputs": [],
      "source": [
        "model = LinearRegressor()"
      ]
    },
    {
      "cell_type": "code",
      "execution_count": 9,
      "metadata": {
        "id": "aqwggvSQXzTC"
      },
      "outputs": [],
      "source": [
        "learning_rate = 1e-3\n",
        "criterion = nn.MSELoss()    # MSE를 손실 함수로!!\n",
        "optimizer = torch.optim.SGD(model.parameters(), lr=learning_rate)"
      ]
    },
    {
      "cell_type": "code",
      "execution_count": 10,
      "metadata": {
        "colab": {
          "base_uri": "https://localhost:8080/"
        },
        "id": "xQdf_pDeX8hg",
        "outputId": "f6cb41b9-5d71-4834-ec92-150014b726f0"
      },
      "outputs": [
        {
          "name": "stdout",
          "output_type": "stream",
          "text": [
            "Epoch 0:22.256725311279297\n",
            "Epoch 100:1.7618697881698608\n",
            "Epoch 200:0.36408719420433044\n",
            "Epoch 300:0.2534424066543579\n",
            "Epoch 400:0.2312750518321991\n",
            "Epoch 500:0.21671831607818604\n",
            "Epoch 600:0.2041444331407547\n",
            "Epoch 700:0.1930088996887207\n",
            "Epoch 800:0.18312831223011017\n",
            "Epoch 900:0.17436006665229797\n",
            "Epoch 1000:0.1665787398815155\n"
          ]
        }
      ],
      "source": [
        "loss_stack = []\n",
        "for epoch in range(1001):\n",
        "\n",
        "    optimizer.zero_grad()\n",
        "\n",
        "    y_hat = model(x)\n",
        "    loss = criterion(y_hat,y)\n",
        "\n",
        "    loss.backward()\n",
        "    optimizer.step()\n",
        "    loss_stack.append(loss.item())\n",
        "\n",
        "    if epoch % 100 == 0:\n",
        "        print(f'Epoch {epoch}:{loss.item()}')"
      ]
    },
    {
      "cell_type": "markdown",
      "metadata": {
        "id": "jpDi4_iIZBAE"
      },
      "source": [
        "예측된 학습이 아니기에 with torch.no_grad()를 통해 requires_grad 비활성화!!"
      ]
    },
    {
      "cell_type": "code",
      "execution_count": 11,
      "metadata": {
        "id": "0_t6pNn9YVDG"
      },
      "outputs": [],
      "source": [
        "with torch.no_grad():\n",
        "    y_hat = model(x)"
      ]
    },
    {
      "cell_type": "code",
      "execution_count": 12,
      "metadata": {
        "colab": {
          "base_uri": "https://localhost:8080/",
          "height": 468
        },
        "id": "_TOjpQPrY3yQ",
        "outputId": "6e5ec79f-9d88-46b3-df43-870562d3aaad"
      },
      "outputs": [
        {
          "data": {
            "image/png": "[encoded data removed]",
            "text/plain": [
              "<Figure size 1000x500 with 2 Axes>"
            ]
          },
          "metadata": {},
          "output_type": "display_data"
        }
      ],
      "source": [
        "plt.figure(figsize=(10, 5))\n",
        "plt.subplot(121)\n",
        "plt.plot(loss_stack)\n",
        "plt.title(\"Loss\")\n",
        "plt.subplot(122)\n",
        "plt.plot(x, y,'.b')\n",
        "plt.plot(x, y_hat, 'r-')\n",
        "plt.legend(['ground truth','prediction'])\n",
        "plt.title(\"Prediction\")\n",
        "plt.show()"
      ]
    },
    {
      "cell_type": "markdown",
      "metadata": {
        "id": "TyMC_edJZdcR"
      },
      "source": []
    },
    {
      "cell_type": "markdown",
      "metadata": {
        "id": "EcJQB_WxZfva"
      },
      "source": [
        "# 집값 예측하기 by MLP"
      ]
    },
    {
      "cell_type": "markdown",
      "metadata": {
        "id": "RkwvU7wzZqea"
      },
      "source": [
        "nn.LInear()를 줄지어 여러 층으로 구성된 깊은 신경망 제작!!"
      ]
    },
    {
      "cell_type": "code",
      "execution_count": 13,
      "metadata": {
        "colab": {
          "base_uri": "https://localhost:8080/"
        },
        "id": "ehCD_G2RZfLb",
        "outputId": "fa481db3-cd8d-4ac1-8bac-e1f7cbc854fa"
      },
      "outputs": [
        {
          "name": "stdout",
          "output_type": "stream",
          "text": [
            "Mounted at /content/gdrive\n"
          ]
        }
      ],
      "source": [
        "from google.colab import drive\n",
        "drive.mount('/content/gdrive')"
      ]
    },
    {
      "cell_type": "code",
      "execution_count": 30,
      "metadata": {
        "colab": {
          "base_uri": "https://localhost:8080/"
        },
        "id": "_RrfyP6YaJMI",
        "outputId": "dcbd138c-a1b7-4e72-d9d9-3e1fb20ef398"
      },
      "outputs": [
        {
          "name": "stdout",
          "output_type": "stream",
          "text": [
            "/content/gdrive/MyDrive/Pytorch_sample/data\n"
          ]
        }
      ],
      "source": [
        "cd /content/gdrive/MyDrive/Pytorch_sample/data"
      ]
    },
    {
      "cell_type": "code",
      "execution_count": 31,
      "metadata": {
        "id": "52DHnyfMau8e"
      },
      "outputs": [],
      "source": [
        "import pandas as pd # 데이터프레임 형태를 다룰 수 있는 라이브러리\n",
        "import numpy as np\n",
        "from sklearn.model_selection import train_test_split # 전체 데이터를 학습 데이터와 평가 데이터로 나눈다.\n",
        "\n",
        "# ANN\n",
        "import torch\n",
        "from torch import nn, optim # torch 내의 세부적인 기능을 불러온다. (신경망 기술, 손실함수, 최적화 방법 등)\n",
        "from torch.utils.data import DataLoader, Dataset # 데이터를 모델에 사용할 수 있도록 정리해 주는 라이브러리\n",
        "import torch.nn.functional as F # torch 내의 세부적인 기능을 불러온다. (신경망 기술 등)\n",
        "\n",
        "# Loss\n",
        "from sklearn.metrics import mean_squared_error # Regression 문제의 평가를 위해 MSE(Mean Squared Error)를 불러온다.\n",
        "\n",
        "# Plot\n",
        "import matplotlib.pyplot as plt # 시각화 도구"
      ]
    },
    {
      "cell_type": "code",
      "execution_count": 32,
      "metadata": {
        "id": "v7l2hXgjazzG"
      },
      "outputs": [],
      "source": [
        "df = pd.read_csv('reg.csv', index_col=[0])"
      ]
    },
    {
      "cell_type": "code",
      "execution_count": 33,
      "metadata": {
        "colab": {
          "base_uri": "https://localhost:8080/",
          "height": 382
        },
        "id": "U8LkxeFMbvIi",
        "outputId": "efd4d47d-8ba0-4cf6-b67e-2cc81059f3f5"
      },
      "outputs": [
        {
          "data": {
            "text/html": [
              "\n",
              "  <div id=\"df-cc541708-62b8-4c56-99ee-1607cfca6225\" class=\"colab-df-container\">\n",
              "    <div>\n",
              "<style scoped>\n",
              "    .dataframe tbody tr th:only-of-type {\n",
              "        vertical-align: middle;\n",
              "    }\n",
              "\n",
              "    .dataframe tbody tr th {\n",
              "        vertical-align: top;\n",
              "    }\n",
              "\n",
              "    .dataframe thead th {\n",
              "        text-align: right;\n",
              "    }\n",
              "</style>\n",
              "<table border=\"1\" class=\"dataframe\">\n",
              "  <thead>\n",
              "    <tr style=\"text-align: right;\">\n",
              "      <th></th>\n",
              "      <th>x1</th>\n",
              "      <th>x2</th>\n",
              "      <th>x3</th>\n",
              "      <th>x4</th>\n",
              "      <th>x5</th>\n",
              "      <th>x6</th>\n",
              "      <th>x7</th>\n",
              "      <th>x8</th>\n",
              "      <th>x9</th>\n",
              "      <th>x10</th>\n",
              "      <th>x11</th>\n",
              "      <th>x12</th>\n",
              "      <th>x13</th>\n",
              "      <th>Price</th>\n",
              "    </tr>\n",
              "  </thead>\n",
              "  <tbody>\n",
              "    <tr>\n",
              "      <th>0</th>\n",
              "      <td>0.034633</td>\n",
              "      <td>0.206919</td>\n",
              "      <td>0.137057</td>\n",
              "      <td>0.540526</td>\n",
              "      <td>0.193941</td>\n",
              "      <td>0.699239</td>\n",
              "      <td>0.630532</td>\n",
              "      <td>0.239410</td>\n",
              "      <td>0.027375</td>\n",
              "      <td>0.209857</td>\n",
              "      <td>0.347609</td>\n",
              "      <td>0.996394</td>\n",
              "      <td>0.102644</td>\n",
              "      <td>0.422222</td>\n",
              "    </tr>\n",
              "    <tr>\n",
              "      <th>1</th>\n",
              "      <td>0.028920</td>\n",
              "      <td>0.014315</td>\n",
              "      <td>0.276113</td>\n",
              "      <td>0.255945</td>\n",
              "      <td>0.618886</td>\n",
              "      <td>0.555407</td>\n",
              "      <td>0.782263</td>\n",
              "      <td>0.482977</td>\n",
              "      <td>0.103031</td>\n",
              "      <td>0.106690</td>\n",
              "      <td>0.520776</td>\n",
              "      <td>0.996650</td>\n",
              "      <td>0.187120</td>\n",
              "      <td>0.368889</td>\n",
              "    </tr>\n",
              "    <tr>\n",
              "      <th>2</th>\n",
              "      <td>0.020627</td>\n",
              "      <td>0.033230</td>\n",
              "      <td>0.281116</td>\n",
              "      <td>0.525591</td>\n",
              "      <td>0.165269</td>\n",
              "      <td>0.624102</td>\n",
              "      <td>0.586005</td>\n",
              "      <td>0.272713</td>\n",
              "      <td>0.036010</td>\n",
              "      <td>0.106986</td>\n",
              "      <td>0.595301</td>\n",
              "      <td>0.983284</td>\n",
              "      <td>0.084079</td>\n",
              "      <td>0.660000</td>\n",
              "    </tr>\n",
              "    <tr>\n",
              "      <th>3</th>\n",
              "      <td>0.022749</td>\n",
              "      <td>0.033801</td>\n",
              "      <td>0.125044</td>\n",
              "      <td>0.263253</td>\n",
              "      <td>0.251509</td>\n",
              "      <td>0.658532</td>\n",
              "      <td>0.432160</td>\n",
              "      <td>0.344932</td>\n",
              "      <td>0.150018</td>\n",
              "      <td>0.068317</td>\n",
              "      <td>0.651297</td>\n",
              "      <td>0.989989</td>\n",
              "      <td>0.015990</td>\n",
              "      <td>0.631111</td>\n",
              "    </tr>\n",
              "    <tr>\n",
              "      <th>4</th>\n",
              "      <td>0.022148</td>\n",
              "      <td>0.029374</td>\n",
              "      <td>0.121057</td>\n",
              "      <td>0.521126</td>\n",
              "      <td>0.399670</td>\n",
              "      <td>0.448086</td>\n",
              "      <td>0.520158</td>\n",
              "      <td>0.495342</td>\n",
              "      <td>0.104383</td>\n",
              "      <td>0.069360</td>\n",
              "      <td>0.560116</td>\n",
              "      <td>0.998723</td>\n",
              "      <td>0.092782</td>\n",
              "      <td>0.693333</td>\n",
              "    </tr>\n",
              "    <tr>\n",
              "      <th>5</th>\n",
              "      <td>0.038651</td>\n",
              "      <td>0.019568</td>\n",
              "      <td>0.139449</td>\n",
              "      <td>0.719852</td>\n",
              "      <td>0.560581</td>\n",
              "      <td>0.610531</td>\n",
              "      <td>0.578661</td>\n",
              "      <td>0.387926</td>\n",
              "      <td>0.133629</td>\n",
              "      <td>0.072967</td>\n",
              "      <td>0.514078</td>\n",
              "      <td>0.986385</td>\n",
              "      <td>0.127396</td>\n",
              "      <td>0.526667</td>\n",
              "    </tr>\n",
              "    <tr>\n",
              "      <th>6</th>\n",
              "      <td>0.033301</td>\n",
              "      <td>0.136658</td>\n",
              "      <td>0.336651</td>\n",
              "      <td>0.274996</td>\n",
              "      <td>0.472140</td>\n",
              "      <td>0.331155</td>\n",
              "      <td>0.643546</td>\n",
              "      <td>0.661869</td>\n",
              "      <td>0.270651</td>\n",
              "      <td>0.239929</td>\n",
              "      <td>0.475964</td>\n",
              "      <td>0.993516</td>\n",
              "      <td>0.300521</td>\n",
              "      <td>0.397778</td>\n",
              "    </tr>\n",
              "    <tr>\n",
              "      <th>7</th>\n",
              "      <td>0.026858</td>\n",
              "      <td>0.151993</td>\n",
              "      <td>0.300627</td>\n",
              "      <td>0.115449</td>\n",
              "      <td>0.463345</td>\n",
              "      <td>0.532618</td>\n",
              "      <td>0.938389</td>\n",
              "      <td>0.465781</td>\n",
              "      <td>0.139893</td>\n",
              "      <td>0.238901</td>\n",
              "      <td>0.243669</td>\n",
              "      <td>0.991425</td>\n",
              "      <td>0.431171</td>\n",
              "      <td>0.491111</td>\n",
              "    </tr>\n",
              "    <tr>\n",
              "      <th>8</th>\n",
              "      <td>0.021739</td>\n",
              "      <td>0.132378</td>\n",
              "      <td>0.259349</td>\n",
              "      <td>0.488716</td>\n",
              "      <td>0.389581</td>\n",
              "      <td>0.411536</td>\n",
              "      <td>0.984672</td>\n",
              "      <td>0.526151</td>\n",
              "      <td>0.201324</td>\n",
              "      <td>0.236329</td>\n",
              "      <td>0.306712</td>\n",
              "      <td>0.965204</td>\n",
              "      <td>0.767177</td>\n",
              "      <td>0.255556</td>\n",
              "    </tr>\n",
              "    <tr>\n",
              "      <th>9</th>\n",
              "      <td>0.014588</td>\n",
              "      <td>0.144471</td>\n",
              "      <td>0.331099</td>\n",
              "      <td>0.759479</td>\n",
              "      <td>0.696532</td>\n",
              "      <td>0.334544</td>\n",
              "      <td>0.834204</td>\n",
              "      <td>0.611416</td>\n",
              "      <td>0.174935</td>\n",
              "      <td>0.237351</td>\n",
              "      <td>0.437982</td>\n",
              "      <td>0.967070</td>\n",
              "      <td>0.445798</td>\n",
              "      <td>0.308889</td>\n",
              "    </tr>\n",
              "  </tbody>\n",
              "</table>\n",
              "</div>\n",
              "    <div class=\"colab-df-buttons\">\n",
              "\n",
              "  <div class=\"colab-df-container\">\n",
              "    <button class=\"colab-df-convert\" onclick=\"convertToInteractive('df-cc541708-62b8-4c56-99ee-1607cfca6225')\"\n",
              "            title=\"Convert this dataframe to an interactive table.\"\n",
              "            style=\"display:none;\">\n",
              "\n",
              "  <svg xmlns=\"http://www.w3.org/2000/svg\" height=\"24px\" viewBox=\"0 -960 960 960\">\n",
              "    <path d=\"M120-120v-720h720v720H120Zm60-500h600v-160H180v160Zm220 220h160v-160H400v160Zm0 220h160v-160H400v160ZM180-400h160v-160H180v160Zm440 0h160v-160H620v160ZM180-180h160v-160H180v160Zm440 0h160v-160H620v160Z\"/>\n",
              "  </svg>\n",
              "    </button>\n",
              "\n",
              "  <style>\n",
              "    .colab-df-container {\n",
              "      display:flex;\n",
              "      gap: 12px;\n",
              "    }\n",
              "\n",
              "    .colab-df-convert {\n",
              "      background-color: #E8F0FE;\n",
              "      border: none;\n",
              "      border-radius: 50%;\n",
              "      cursor: pointer;\n",
              "      display: none;\n",
              "      fill: #1967D2;\n",
              "      height: 32px;\n",
              "      padding: 0 0 0 0;\n",
              "      width: 32px;\n",
              "    }\n",
              "\n",
              "    .colab-df-convert:hover {\n",
              "      background-color: #E2EBFA;\n",
              "      box-shadow: 0px 1px 2px rgba(60, 64, 67, 0.3), 0px 1px 3px 1px rgba(60, 64, 67, 0.15);\n",
              "      fill: #174EA6;\n",
              "    }\n",
              "\n",
              "    .colab-df-buttons div {\n",
              "      margin-bottom: 4px;\n",
              "    }\n",
              "\n",
              "    [theme=dark] .colab-df-convert {\n",
              "      background-color: #3B4455;\n",
              "      fill: #D2E3FC;\n",
              "    }\n",
              "\n",
              "    [theme=dark] .colab-df-convert:hover {\n",
              "      background-color: #434B5C;\n",
              "      box-shadow: 0px 1px 3px 1px rgba(0, 0, 0, 0.15);\n",
              "      filter: drop-shadow(0px 1px 2px rgba(0, 0, 0, 0.3));\n",
              "      fill: #FFFFFF;\n",
              "    }\n",
              "  </style>\n",
              "\n",
              "    <script>\n",
              "      const buttonEl =\n",
              "        document.querySelector('#df-cc541708-62b8-4c56-99ee-1607cfca6225 button.colab-df-convert');\n",
              "      buttonEl.style.display =\n",
              "        google.colab.kernel.accessAllowed ? 'block' : 'none';\n",
              "\n",
              "      async function convertToInteractive(key) {\n",
              "        const element = document.querySelector('#df-cc541708-62b8-4c56-99ee-1607cfca6225');\n",
              "        const dataTable =\n",
              "          await google.colab.kernel.invokeFunction('convertToInteractive',\n",
              "                                                    [key], {});\n",
              "        if (!dataTable) return;\n",
              "\n",
              "        const docLinkHtml = 'Like what you see? Visit the ' +\n",
              "          '<a target=\"_blank\" href=https://colab.research.google.com/notebooks/data_table.ipynb>data table notebook</a>'\n",
              "          + ' to learn more about interactive tables.';\n",
              "        element.innerHTML = '';\n",
              "        dataTable['output_type'] = 'display_data';\n",
              "        await google.colab.output.renderOutput(dataTable, element);\n",
              "        const docLink = document.createElement('div');\n",
              "        docLink.innerHTML = docLinkHtml;\n",
              "        element.appendChild(docLink);\n",
              "      }\n",
              "    </script>\n",
              "  </div>\n",
              "\n",
              "\n",
              "<div id=\"df-1e8d597e-7d46-4232-9059-02686a749160\">\n",
              "  <button class=\"colab-df-quickchart\" onclick=\"quickchart('df-1e8d597e-7d46-4232-9059-02686a749160')\"\n",
              "            title=\"Suggest charts\"\n",
              "            style=\"display:none;\">\n",
              "\n",
              "<svg xmlns=\"http://www.w3.org/2000/svg\" height=\"24px\"viewBox=\"0 0 24 24\"\n",
              "     width=\"24px\">\n",
              "    <g>\n",
              "        <path d=\"M19 3H5c-1.1 0-2 .9-2 2v14c0 1.1.9 2 2 2h14c1.1 0 2-.9 2-2V5c0-1.1-.9-2-2-2zM9 17H7v-7h2v7zm4 0h-2V7h2v10zm4 0h-2v-4h2v4z\"/>\n",
              "    </g>\n",
              "</svg>\n",
              "  </button>\n",
              "\n",
              "<style>\n",
              "  .colab-df-quickchart {\n",
              "      --bg-color: #E8F0FE;\n",
              "      --fill-color: #1967D2;\n",
              "      --hover-bg-color: #E2EBFA;\n",
              "      --hover-fill-color: #174EA6;\n",
              "      --disabled-fill-color: #AAA;\n",
              "      --disabled-bg-color: #DDD;\n",
              "  }\n",
              "\n",
              "  [theme=dark] .colab-df-quickchart {\n",
              "      --bg-color: #3B4455;\n",
              "      --fill-color: #D2E3FC;\n",
              "      --hover-bg-color: #434B5C;\n",
              "      --hover-fill-color: #FFFFFF;\n",
              "      --disabled-bg-color: #3B4455;\n",
              "      --disabled-fill-color: #666;\n",
              "  }\n",
              "\n",
              "  .colab-df-quickchart {\n",
              "    background-color: var(--bg-color);\n",
              "    border: none;\n",
              "    border-radius: 50%;\n",
              "    cursor: pointer;\n",
              "    display: none;\n",
              "    fill: var(--fill-color);\n",
              "    height: 32px;\n",
              "    padding: 0;\n",
              "    width: 32px;\n",
              "  }\n",
              "\n",
              "  .colab-df-quickchart:hover {\n",
              "    background-color: var(--hover-bg-color);\n",
              "    box-shadow: 0 1px 2px rgba(60, 64, 67, 0.3), 0 1px 3px 1px rgba(60, 64, 67, 0.15);\n",
              "    fill: var(--button-hover-fill-color);\n",
              "  }\n",
              "\n",
              "  .colab-df-quickchart-complete:disabled,\n",
              "  .colab-df-quickchart-complete:disabled:hover {\n",
              "    background-color: var(--disabled-bg-color);\n",
              "    fill: var(--disabled-fill-color);\n",
              "    box-shadow: none;\n",
              "  }\n",
              "\n",
              "  .colab-df-spinner {\n",
              "    border: 2px solid var(--fill-color);\n",
              "    border-color: transparent;\n",
              "    border-bottom-color: var(--fill-color);\n",
              "    animation:\n",
              "      spin 1s steps(1) infinite;\n",
              "  }\n",
              "\n",
              "  @keyframes spin {\n",
              "    0% {\n",
              "      border-color: transparent;\n",
              "      border-bottom-color: var(--fill-color);\n",
              "      border-left-color: var(--fill-color);\n",
              "    }\n",
              "    20% {\n",
              "      border-color: transparent;\n",
              "      border-left-color: var(--fill-color);\n",
              "      border-top-color: var(--fill-color);\n",
              "    }\n",
              "    30% {\n",
              "      border-color: transparent;\n",
              "      border-left-color: var(--fill-color);\n",
              "      border-top-color: var(--fill-color);\n",
              "      border-right-color: var(--fill-color);\n",
              "    }\n",
              "    40% {\n",
              "      border-color: transparent;\n",
              "      border-right-color: var(--fill-color);\n",
              "      border-top-color: var(--fill-color);\n",
              "    }\n",
              "    60% {\n",
              "      border-color: transparent;\n",
              "      border-right-color: var(--fill-color);\n",
              "    }\n",
              "    80% {\n",
              "      border-color: transparent;\n",
              "      border-right-color: var(--fill-color);\n",
              "      border-bottom-color: var(--fill-color);\n",
              "    }\n",
              "    90% {\n",
              "      border-color: transparent;\n",
              "      border-bottom-color: var(--fill-color);\n",
              "    }\n",
              "  }\n",
              "</style>\n",
              "\n",
              "  <script>\n",
              "    async function quickchart(key) {\n",
              "      const quickchartButtonEl =\n",
              "        document.querySelector('#' + key + ' button');\n",
              "      quickchartButtonEl.disabled = true;  // To prevent multiple clicks.\n",
              "      quickchartButtonEl.classList.add('colab-df-spinner');\n",
              "      try {\n",
              "        const charts = await google.colab.kernel.invokeFunction(\n",
              "            'suggestCharts', [key], {});\n",
              "      } catch (error) {\n",
              "        console.error('Error during call to suggestCharts:', error);\n",
              "      }\n",
              "      quickchartButtonEl.classList.remove('colab-df-spinner');\n",
              "      quickchartButtonEl.classList.add('colab-df-quickchart-complete');\n",
              "    }\n",
              "    (() => {\n",
              "      let quickchartButtonEl =\n",
              "        document.querySelector('#df-1e8d597e-7d46-4232-9059-02686a749160 button');\n",
              "      quickchartButtonEl.style.display =\n",
              "        google.colab.kernel.accessAllowed ? 'block' : 'none';\n",
              "    })();\n",
              "  </script>\n",
              "</div>\n",
              "\n",
              "    </div>\n",
              "  </div>\n"
            ],
            "text/plain": [
              "         x1        x2        x3        x4        x5        x6        x7  \\\n",
              "0  0.034633  0.206919  0.137057  0.540526  0.193941  0.699239  0.630532   \n",
              "1  0.028920  0.014315  0.276113  0.255945  0.618886  0.555407  0.782263   \n",
              "2  0.020627  0.033230  0.281116  0.525591  0.165269  0.624102  0.586005   \n",
              "3  0.022749  0.033801  0.125044  0.263253  0.251509  0.658532  0.432160   \n",
              "4  0.022148  0.029374  0.121057  0.521126  0.399670  0.448086  0.520158   \n",
              "5  0.038651  0.019568  0.139449  0.719852  0.560581  0.610531  0.578661   \n",
              "6  0.033301  0.136658  0.336651  0.274996  0.472140  0.331155  0.643546   \n",
              "7  0.026858  0.151993  0.300627  0.115449  0.463345  0.532618  0.938389   \n",
              "8  0.021739  0.132378  0.259349  0.488716  0.389581  0.411536  0.984672   \n",
              "9  0.014588  0.144471  0.331099  0.759479  0.696532  0.334544  0.834204   \n",
              "\n",
              "         x8        x9       x10       x11       x12       x13     Price  \n",
              "0  0.239410  0.027375  0.209857  0.347609  0.996394  0.102644  0.422222  \n",
              "1  0.482977  0.103031  0.106690  0.520776  0.996650  0.187120  0.368889  \n",
              "2  0.272713  0.036010  0.106986  0.595301  0.983284  0.084079  0.660000  \n",
              "3  0.344932  0.150018  0.068317  0.651297  0.989989  0.015990  0.631111  \n",
              "4  0.495342  0.104383  0.069360  0.560116  0.998723  0.092782  0.693333  \n",
              "5  0.387926  0.133629  0.072967  0.514078  0.986385  0.127396  0.526667  \n",
              "6  0.661869  0.270651  0.239929  0.475964  0.993516  0.300521  0.397778  \n",
              "7  0.465781  0.139893  0.238901  0.243669  0.991425  0.431171  0.491111  \n",
              "8  0.526151  0.201324  0.236329  0.306712  0.965204  0.767177  0.255556  \n",
              "9  0.611416  0.174935  0.237351  0.437982  0.967070  0.445798  0.308889  "
            ]
          },
          "execution_count": 33,
          "metadata": {},
          "output_type": "execute_result"
        }
      ],
      "source": [
        "# 데이터프레임 보여주기\n",
        "# df.head()는 상위 5줄만 보여준다.\n",
        "# df.head(10) 괄호 안에 숫자 10을 넣으면 10줄을 보여준다.\n",
        "df.head(10)"
      ]
    },
    {
      "cell_type": "code",
      "execution_count": 36,
      "metadata": {
        "id": "lBsWKboUcLzs"
      },
      "outputs": [],
      "source": [
        "# 데이터 프레임을 넘파이 배열로 만들기\n",
        "# df에서 Price 제외한 나머지는 변수로 사용!\n",
        "X = df.drop('Price', axis=1).to_numpy()\n",
        "Y = df['Price'].to_numpy().reshape((-1,1))"
      ]
    },
    {
      "cell_type": "code",
      "execution_count": 35,
      "metadata": {
        "id": "DEaay4VBcf-n"
      },
      "outputs": [],
      "source": [
        "# 전체 데이터를 학습 데이터와 평가 데이터로 나눈다.\n",
        "# 기준으로 잡은 논문이 전체 데이터를 50%, 50%로 나눴기 때문에 test size를 0.5로 설정한다.\n",
        "X_train, X_test, Y_train, Y_test = train_test_split(X, Y, test_size=0.5)"
      ]
    },
    {
      "cell_type": "code",
      "execution_count": 38,
      "metadata": {
        "id": "pBWCye3GdRg0"
      },
      "outputs": [],
      "source": [
        "# 학습 데이터, 시험 데이터 배치 형태로 구축하기\n",
        "trainsets = TensorData(X_train, Y_train)\n",
        "trainloader = torch.utils.data.DataLoader(trainsets, batch_size=32, shuffle=True)\n",
        "\n",
        "testsets = TensorData(X_test, Y_test)\n",
        "testloader = torch.utils.data.DataLoader(testsets, batch_size=32, shuffle=False)"
      ]
    },
    {
      "cell_type": "code",
      "execution_count": 39,
      "metadata": {
        "id": "8KhQ2RXScvvU"
      },
      "outputs": [],
      "source": [
        "class TensorData(Dataset):\n",
        "\n",
        "    def __init__(self, x_data, y_data):\n",
        "        self.x_data = torch.FloatTensor(x_data)\n",
        "        self.y_data = torch.FloatTensor(y_data)\n",
        "        self.len = self.y_data.shape[0]\n",
        "\n",
        "    def __getitem__(self, index):\n",
        "\n",
        "        return self.x_data[index], self.y_data[index]\n",
        "\n",
        "    def __len__(self):\n",
        "        return self.len"
      ]
    },
    {
      "cell_type": "markdown",
      "metadata": {
        "id": "ACc9-2mTdU_z"
      },
      "source": [
        "모델 구축하기"
      ]
    },
    {
      "cell_type": "code",
      "execution_count": null,
      "metadata": {
        "id": "S51kbVzecv0R"
      },
      "outputs": [],
      "source": [
        "# Regressor는 입력층 1개, 은닉층 2개, 출력층 1개를 가진 모델이다\n",
        "# 입력층 노드 13개, 출력층 노드 1개"
      ]
    },
    {
      "cell_type": "code",
      "execution_count": 41,
      "metadata": {
        "id": "Ggt-gn6Bdol6"
      },
      "outputs": [],
      "source": [
        "# 각 은닉층마다 50, 30개의 노드를 갖도록!!\n",
        "class Regressor(nn.Module):\n",
        "    def __init__(self):\n",
        "        super().__init__() # 모델 연산 정의\n",
        "        self.fc1 = nn.Linear(13, 50) # 입력층(13) -> 은닉층1(50)으로 가는 연산\n",
        "        self.fc2 = nn.Linear(50, 30) # 은닉층1(50) -> 은닉층2(30)으로 가는 연산\n",
        "        self.fc3 = nn.Linear(30, 1) # 은닉층2(30) -> 출력층(1)으로 가는 연산\n",
        "        self.dropout = nn.Dropout(0.5) # 연산이 될 때마다 50%의 비율로 랜덤하게 노드를 없앤다.\n",
        "\n",
        "    def forward(self, x): # 모델 연산의 순서를 정의\n",
        "        x = F.relu(self.fc1(x)) # Linear 계산 후 활성화 함수 ReLU를 적용한다.\n",
        "        x = self.dropout(F.relu(self.fc2(x))) # 은닉층2에서 드랍아웃을 적용한다.(즉, 30개의 20%인 6개의 노드가 계산에서 제외된다.)\n",
        "        x = F.relu(self.fc3(x)) # Linear 계산 후 활성화 함수 ReLU를 적용한다.\n",
        "\n",
        "        return x\n",
        "\n",
        "\n",
        "# 주의 사항\n",
        "# 드랍아웃은 과적합(overfitting)을 방지하기 위해 노드의 일부를 배제하고 계산하는 방식이기 때문에 절대로 출력층에 사용해서는 안 된다."
      ]
    },
    {
      "cell_type": "code",
      "execution_count": 43,
      "metadata": {
        "id": "1BPSZl5GeS3k"
      },
      "outputs": [],
      "source": [
        "# 모델 학습하기\n",
        "model = Regressor()\n",
        "criterion = nn.MSELoss()\n",
        "optimizer = optim.Adam(model.parameters(), lr=0.001, weight_decay=1e-7) # Adam으로 최적화 방법 정의\n",
        "# weight decay는 L2 정규화에서 패널티 값을 의미!!"
      ]
    },
    {
      "cell_type": "code",
      "execution_count": 44,
      "metadata": {
        "id": "xoON7g7-fCK5"
      },
      "outputs": [],
      "source": [
        "loss_ = [] # 그래프를 그리기 위한 loss 저장용 리스트\n",
        "n = len(trainloader)\n",
        "\n",
        "for epoch in range(400): # 400번 학습을 진행한다.\n",
        "\n",
        "    running_loss = 0.0\n",
        "\n",
        "    for data in trainloader: # 무작위로 섞인 32개 데이터가 있는 배치가 하나 씩 들어온다.\n",
        "\n",
        "        inputs, values = data # data에는 X, Y가 들어있다.\n",
        "\n",
        "        optimizer.zero_grad() # 최적화 초기화\n",
        "\n",
        "        outputs = model(inputs) # 모델에 입력값 대입 후 예측값 산출\n",
        "        loss = criterion(outputs, values) # 손실 함수 계산\n",
        "        loss.backward() # 손실 함수 기준으로 역전파 설정\n",
        "        optimizer.step() # 역전파를 진행하고 가중치 업데이트\n",
        "\n",
        "        running_loss += loss.item() # epoch 마다 평균 loss를 계산하기 위해 배치 loss를 더한다.\n",
        "\n",
        "    loss_.append(running_loss/n) # MSE(Mean Squared Error) 계산"
      ]
    },
    {
      "cell_type": "code",
      "execution_count": 45,
      "metadata": {
        "colab": {
          "base_uri": "https://localhost:8080/",
          "height": 472
        },
        "id": "LCu72CtjfuMH",
        "outputId": "2a9fc2ad-6b42-42f3-89a4-6de66d4766d1"
      },
      "outputs": [
        {
          "data": {
            "image/png": "[encoded data removed]",
            "text/plain": [
              "<Figure size 640x480 with 1 Axes>"
            ]
          },
          "metadata": {},
          "output_type": "display_data"
        }
      ],
      "source": [
        "plt.plot(loss_)\n",
        "plt.title(\"Training Loss\")\n",
        "plt.xlabel(\"epoch\")\n",
        "plt.show()"
      ]
    },
    {
      "cell_type": "markdown",
      "metadata": {
        "id": "ig1hU2ylgDQu"
      },
      "source": [
        "모델 평가하기"
      ]
    },
    {
      "cell_type": "code",
      "execution_count": 49,
      "metadata": {
        "id": "2rA75lYOgCqS"
      },
      "outputs": [],
      "source": [
        "# 최종 모델 평가는 RMSE를 사용한다!!\n",
        "\n",
        "def evaluation(dataloader):\n",
        "    # 예측값과 그에 대응하는 실제값 저장 위해 빈 텐서 만든다\n",
        "    predictions = torch.tensor([], dtype=torch.float)\n",
        "    actual = torch.tensor([], dtype=torch.float)\n",
        "    with torch.no_grad():   # requires_grad 비활성화\n",
        "        model.eval()\n",
        "        for data in dataloader:\n",
        "            inputs, values = data\n",
        "            outputs = model(inputs)\n",
        "            predictions = torch.cat((predictions, outputs), 0)  # cat 통해 예측값을 누적함\n",
        "            actual = torch.cat((actual, values), 0) # cat 통해 실제값을 누적함\n",
        "\n",
        "    predictions = predictions.numpy()  # 넘파이 배열로 변경\n",
        "    actual = actual.numpy()     # 넘파이 배열로 변경\n",
        "    rmse = np.sqrt(mean_squared_error(predictions, actual))  # sklearn을 이용하여 RMSE 계산\n",
        "\n",
        "    return rmse\n",
        "\n",
        "# 평가 시 .eval()을 사용해야 하는 이유\n",
        "# 평가 시에는 온전한 모델로 평가를 해야하는데 .eval()이 아닌 .train()인 경우 드랍아웃이 활성화 되어 있다.\n",
        "# 따라서 드랍아웃이나 배치 정규화 등과 같이 학습 시에만 사용하는 기술들을 평가 시에는 비활성화 해야만 한다."
      ]
    },
    {
      "cell_type": "code",
      "execution_count": 50,
      "metadata": {
        "colab": {
          "base_uri": "https://localhost:8080/"
        },
        "id": "tShYpQyVgPL6",
        "outputId": "925d76d7-11e2-4478-9738-9c86d90ad2bc"
      },
      "outputs": [
        {
          "name": "stdout",
          "output_type": "stream",
          "text": [
            "Train RMSE:  0.07272544\n",
            "Test RMSE:  0.10528318\n"
          ]
        }
      ],
      "source": [
        "train_rmse = evaluation(trainloader) # 학습 데이터의 RMSE\n",
        "test_rmse = evaluation(testloader) # 시험 데이터의 RMSE\n",
        "\n",
        "print(\"Train RMSE: \",train_rmse)\n",
        "print(\"Test RMSE: \",test_rmse)\n",
        "\n",
        "# 예시를 위한 단순 비교입니다. 실제 연구에서는 디테일한 비교가 필요합니다.\n",
        "# 데이터를 무작위로 나누고 모델의 초기값도 random initial parameter를 사용했기 때문에 학습을 할 때 마다 결과가 다르게 나올 수 있습니다.\n",
        "# 이 강의에서는 학습의 흐름(for문)과 모델(Regressor) 부분을 주의 깊게 보시면 됩니다."
      ]
    }
  ],
  "metadata": {
    "colab": {
      "provenance": []
    },
    "kernelspec": {
      "display_name": "Python 3",
      "name": "python3"
    },
    "language_info": {
      "name": "python"
    }
  },
  "nbformat": 4,
  "nbformat_minor": 0
}
